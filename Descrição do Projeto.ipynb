{
 "cells": [
  {
   "cell_type": "markdown",
   "metadata": {},
   "source": [
    "# Projeto Automação Web - Busca de Preços\n",
    "\n",
    "### Objetivo: criar um projeto em que se usa automações web com Selenium para buscar as informações de preço de produtos\n",
    "\n",
    "### Como vai funcionar:\n",
    "\n",
    "- Imagina que você trabalha na área de compras de uma empresa e precisa fazer uma comparação de fornecedores para os seus insumos/produtos.\n",
    "\n",
    "- Nessa hora, você vai constantemente buscar nos sites desses fornecedores os produtos disponíveis e o preço, afinal, cada um deles pode fazer promoção em momentos diferentes e com valores diferentes.\n",
    "\n",
    "- Se o valor dos produtos estiver de acordo com o preço definido, os produtos serão salvos e atualizados em uma planilha.\n",
    "\n",
    "- Em seguida, vai enviar um e-mail com a lista dos produtos abaixo do seu preço máximo de compra.\n",
    "\n",
    "\n",
    "### O que temos disponível?\n",
    "\n",
    "- Planilha de Produtos, com os nomes dos produtos, o preço máximo, o preço mínimo (para evitar produtos \"errados\" ou \"baratos de mais para ser verdade\" e os termos que vamos querer evitar nas nossas buscas.\n",
    "\n",
    "### O que é feito:\n",
    "\n",
    "- Procura de cada produto no Google Shopping/Buscapé e resumo de todos os resultados que tenham preço dentro da faixa e sejam os produtos corretos.\n",
    "- Envio de e-mail da tabela com os itens e preços encontrados, junto com o link de compra."
   ]
  }
 ],
 "metadata": {
  "kernelspec": {
   "display_name": "Python 3",
   "language": "python",
   "name": "python3"
  },
  "language_info": {
   "codemirror_mode": {
    "name": "ipython",
    "version": 3
   },
   "file_extension": ".py",
   "mimetype": "text/x-python",
   "name": "python",
   "nbconvert_exporter": "python",
   "pygments_lexer": "ipython3",
   "version": "3.8.8"
  }
 },
 "nbformat": 4,
 "nbformat_minor": 4
}
